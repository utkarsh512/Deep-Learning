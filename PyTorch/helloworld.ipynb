{
  "nbformat": 4,
  "nbformat_minor": 0,
  "metadata": {
    "colab": {
      "name": "PyTorch.ipynb",
      "provenance": [],
      "authorship_tag": "ABX9TyPK/H76IaIAMLdwAsohCJih",
      "include_colab_link": true
    },
    "kernelspec": {
      "name": "python3",
      "display_name": "Python 3"
    }
  },
  "cells": [
    {
      "cell_type": "markdown",
      "metadata": {
        "id": "view-in-github",
        "colab_type": "text"
      },
      "source": [
        "<a href=\"https://colab.research.google.com/github/utkarsh512/Deep-Learning/blob/master/PyTorch/helloworld.ipynb\" target=\"_parent\"><img src=\"https://colab.research.google.com/assets/colab-badge.svg\" alt=\"Open In Colab\"/></a>"
      ]
    },
    {
      "cell_type": "code",
      "metadata": {
        "id": "uqsy98rHJKP0"
      },
      "source": [
        "import torch\n",
        "from torch.autograd import Variable"
      ],
      "execution_count": 1,
      "outputs": []
    },
    {
      "cell_type": "code",
      "metadata": {
        "id": "0WTciyPBJSdJ"
      },
      "source": [
        "N, D = 3, 4\n",
        "\n",
        "x = Variable(torch.randn(N, D), requires_grad=True)\n",
        "y = Variable(torch.randn(N, D), requires_grad=True)\n",
        "z = Variable(torch.randn(N, D), requires_grad=True)\n",
        "\n",
        "a = x * y\n",
        "b = a + z\n",
        "c = torch.sum(b)"
      ],
      "execution_count": 2,
      "outputs": []
    },
    {
      "cell_type": "code",
      "metadata": {
        "id": "LURtmPl4J7GO",
        "outputId": "a17d28f3-1a30-4b5f-e888-dc3c5ab6a09a",
        "colab": {
          "base_uri": "https://localhost:8080/",
          "height": 134
        }
      },
      "source": [
        "c.backward()\n",
        "print(x.grad.data, y.grad.data, z.grad.data)"
      ],
      "execution_count": 3,
      "outputs": [
        {
          "output_type": "stream",
          "text": [
            "tensor([[ 1.1617, -0.5465, -1.7206,  0.3594],\n",
            "        [-0.4869, -0.5591,  0.2636,  0.7673],\n",
            "        [-0.0989,  0.0694, -0.4440,  0.4517]]) tensor([[-2.0747,  1.4540, -1.3030,  2.0239],\n",
            "        [-0.2550,  1.4114, -0.2649, -0.1500],\n",
            "        [ 1.0199, -0.3561, -1.2907,  0.3860]]) tensor([[1., 1., 1., 1.],\n",
            "        [1., 1., 1., 1.],\n",
            "        [1., 1., 1., 1.]])\n"
          ],
          "name": "stdout"
        }
      ]
    },
    {
      "cell_type": "code",
      "metadata": {
        "id": "KoDahsCrKFn1"
      },
      "source": [
        ""
      ],
      "execution_count": null,
      "outputs": []
    }
  ]
}